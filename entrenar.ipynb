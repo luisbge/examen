{
 "cells": [
  {
   "cell_type": "code",
   "execution_count": 1,
   "id": "f56074be",
   "metadata": {},
   "outputs": [
    {
     "ename": "ModuleNotFoundError",
     "evalue": "No module named 'tensorflow.python.keras.preprocessing'",
     "output_type": "error",
     "traceback": [
      "\u001b[1;31m---------------------------------------------------------------------------\u001b[0m",
      "\u001b[1;31mModuleNotFoundError\u001b[0m                       Traceback (most recent call last)",
      "Cell \u001b[1;32mIn[1], line 3\u001b[0m\n\u001b[0;32m      1\u001b[0m \u001b[38;5;28;01mimport\u001b[39;00m \u001b[38;5;21;01msys\u001b[39;00m\n\u001b[0;32m      2\u001b[0m \u001b[38;5;28;01mimport\u001b[39;00m \u001b[38;5;21;01mos\u001b[39;00m\n\u001b[1;32m----> 3\u001b[0m \u001b[38;5;28;01mfrom\u001b[39;00m \u001b[38;5;21;01mtensorflow\u001b[39;00m\u001b[38;5;21;01m.\u001b[39;00m\u001b[38;5;21;01mpython\u001b[39;00m\u001b[38;5;21;01m.\u001b[39;00m\u001b[38;5;21;01mkeras\u001b[39;00m\u001b[38;5;21;01m.\u001b[39;00m\u001b[38;5;21;01mpreprocessing\u001b[39;00m\u001b[38;5;21;01m.\u001b[39;00m\u001b[38;5;21;01mimage\u001b[39;00m \u001b[38;5;28;01mimport\u001b[39;00m ImageDataGenerator\n\u001b[0;32m      4\u001b[0m \u001b[38;5;28;01mfrom\u001b[39;00m \u001b[38;5;21;01mtensorflow\u001b[39;00m\u001b[38;5;21;01m.\u001b[39;00m\u001b[38;5;21;01mpython\u001b[39;00m\u001b[38;5;21;01m.\u001b[39;00m\u001b[38;5;21;01mkeras\u001b[39;00m \u001b[38;5;28;01mimport\u001b[39;00m optimizers\n\u001b[0;32m      5\u001b[0m \u001b[38;5;66;03m#from tensorflow.python.keras.models import Secuential\u001b[39;00m\n",
      "\u001b[1;31mModuleNotFoundError\u001b[0m: No module named 'tensorflow.python.keras.preprocessing'"
     ]
    }
   ],
   "source": [
    "import sys\n",
    "import os\n",
    "from tensorflow.python.keras.preprocessing.image import ImageDataGenerator\n",
    "from tensorflow.python.keras import optimizers\n",
    "from tensorflow.python.keras.models import Secuential\n",
    "from tensorflow.python.keras.layers import Dropout, Flatten, Dense, Activation\n",
    "from tensorflow.python.keras.layers import Convolution2D, MaxPooling2D\n",
    "from tensorflow.python.keras import backend as K"
   ]
  },
  {
   "cell_type": "code",
   "execution_count": null,
   "id": "b28c0fe9",
   "metadata": {},
   "outputs": [],
   "source": []
  },
  {
   "cell_type": "raw",
   "id": "56eb450b",
   "metadata": {},
   "source": []
  },
  {
   "cell_type": "code",
   "execution_count": null,
   "id": "7085f5f8",
   "metadata": {},
   "outputs": [],
   "source": [
    "K.clear_session()\n",
    "data_entrenamiento='.data/test'\n",
    "data_validacion='.data/train'\n",
    "\n",
    "#PARAMETROS\n",
    "epocas=20\n",
    "altura, longitud=100,100\n",
    "batch_size=32\n",
    "pasos=1000\n",
    "pasos_validacion=200\n",
    "filtrosConv1=32\n",
    "filtrosConv2=64\n",
    "tamano_filtro1=(3,3)\n",
    "tamano_filtro2=(2,2)\n",
    "tamano_pool=(2,2)\n",
    "clases=8\n",
    "lr=0.0005\n",
    "\n",
    "#procesamiento de imagenes.\n",
    "entrenamiento_datagen=ImageDataGenerator(\n",
    "rescale=1./255,\n",
    "shear_range=0.3,\n",
    "    zoom_range=0.3,\n",
    "    horizontal_flip=True\n",
    ")\n",
    "\n",
    "validacion_datagen=ImageDataGenerator(\n",
    "rescale=1./255\n",
    ")\n",
    "\n",
    "imagen_entrenamiento=entrenamiento_datagen.flow_from_directory(\n",
    "data_entrenamiento,\n",
    "target_size=(altura, longitud),\n",
    "batch_size=batch_size,\n",
    "class_mode='categorical'\n",
    ")\n",
    "\n",
    "imagen_validacion=validacion_datagen.flow_from_directory(\n",
    "data_validacion,\n",
    "target_size=(altura, longitud),\n",
    "batch_size=batch_size,\n",
    "class_mode='categorical'\n",
    ")\n",
    "\n",
    "#Crear red CNN\n",
    "\n",
    "cnn_Sequential()\n",
    "cnn.add(Convolution2D(filtrosConv1, tamano_filtro1.padding='same'.input_shape=(altura,longitud).activation='relu'))\n",
    "cnn.add(MaxPooling2D(pool_size=tamano_pool))\n",
    "\n",
    "cnn.add(Convolution2D(filtrosConv2, tamano_filtro2.padding='same', activation='relu'))\n",
    "cnn.add(MaxPooling2D(pool_size=tamano_pool))\n",
    "\n",
    "cnn.add(Flatten())\n",
    "cnn.add(Dense(256,activation='relu'))\n",
    "cnn.add(Dropout(0.5))\n",
    "cnn.add(Dense(clases, activation='softmax'))\n"
   ]
  },
  {
   "cell_type": "code",
   "execution_count": null,
   "id": "02ece810",
   "metadata": {},
   "outputs": [],
   "source": []
  }
 ],
 "metadata": {
  "kernelspec": {
   "display_name": "Python 3 (ipykernel)",
   "language": "python",
   "name": "python3"
  },
  "language_info": {
   "codemirror_mode": {
    "name": "ipython",
    "version": 3
   },
   "file_extension": ".py",
   "mimetype": "text/x-python",
   "name": "python",
   "nbconvert_exporter": "python",
   "pygments_lexer": "ipython3",
   "version": "3.10.9"
  }
 },
 "nbformat": 4,
 "nbformat_minor": 5
}
